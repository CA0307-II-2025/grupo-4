{
 "cells": [
  {
   "cell_type": "code",
   "execution_count": null,
   "id": "b7d4adcc",
   "metadata": {},
   "outputs": [],
   "source": [
    "print(\"Hola equipo!\")"
   ]
  }
 ],
 "metadata": {
  "language_info": {
   "name": "python"
  }
 },
 "nbformat": 4,
 "nbformat_minor": 5
}
